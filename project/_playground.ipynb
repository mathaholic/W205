{
 "cells": [
  {
   "cell_type": "code",
   "execution_count": 1,
   "metadata": {
    "collapsed": true
   },
   "outputs": [],
   "source": [
    "import pandas\n",
    "#import seaborn\n",
    "import matplotlib.pyplot as plt\n",
    "import sys"
   ]
  },
  {
   "cell_type": "code",
   "execution_count": 2,
   "metadata": {
    "collapsed": false
   },
   "outputs": [
    {
     "name": "stdout",
     "output_type": "stream",
     "text": [
      "Python version 2.7.13 |Anaconda 4.3.1 (64-bit)| (default, Dec 19 2016, 13:29:36) [MSC v.1500 64 bit (AMD64)]\n",
      "Pandas version 0.19.2\n"
     ]
    }
   ],
   "source": [
    "print 'Python version ' + sys.version\n",
    "print 'Pandas version ' + pandas.__version__"
   ]
  },
  {
   "cell_type": "code",
   "execution_count": 5,
   "metadata": {
    "collapsed": true
   },
   "outputs": [],
   "source": [
    "demo_ACS2015 = \"demo_ACS2015.csv\"\n",
    "demographics = pandas.read_csv(demo_ACS2015)"
   ]
  },
  {
   "cell_type": "code",
   "execution_count": 6,
   "metadata": {
    "collapsed": false
   },
   "outputs": [
    {
     "data": {
      "text/html": [
       "<div>\n",
       "<table border=\"1\" class=\"dataframe\">\n",
       "  <thead>\n",
       "    <tr style=\"text-align: right;\">\n",
       "      <th></th>\n",
       "      <th>geoid</th>\n",
       "      <th>nhwa_under18</th>\n",
       "      <th>nhwa_votingAge</th>\n",
       "      <th>aian_under18</th>\n",
       "      <th>aian_votingAge</th>\n",
       "      <th>asian_under18</th>\n",
       "      <th>asian_votingAge</th>\n",
       "      <th>black_under18</th>\n",
       "      <th>black_votingAge</th>\n",
       "      <th>hisp_under18</th>\n",
       "      <th>hisp_votingAge</th>\n",
       "      <th>multi_under18</th>\n",
       "      <th>multi_votingAge</th>\n",
       "      <th>nhpi_under18</th>\n",
       "      <th>nhpi_votingAge</th>\n",
       "      <th>sor_under18</th>\n",
       "      <th>sor_votingAge</th>\n",
       "      <th>white_under18</th>\n",
       "      <th>white_votingAge</th>\n",
       "    </tr>\n",
       "  </thead>\n",
       "  <tbody>\n",
       "    <tr>\n",
       "      <th>0</th>\n",
       "      <td>1001</td>\n",
       "      <td>10051.0</td>\n",
       "      <td>31797.0</td>\n",
       "      <td>95.0</td>\n",
       "      <td>135.0</td>\n",
       "      <td>150.0</td>\n",
       "      <td>384.0</td>\n",
       "      <td>2832.0</td>\n",
       "      <td>7483.0</td>\n",
       "      <td>546.0</td>\n",
       "      <td>894.0</td>\n",
       "      <td>361.0</td>\n",
       "      <td>505.0</td>\n",
       "      <td>0.0</td>\n",
       "      <td>24.0</td>\n",
       "      <td>193.0</td>\n",
       "      <td>318.0</td>\n",
       "      <td>10413.0</td>\n",
       "      <td>32328.0</td>\n",
       "    </tr>\n",
       "    <tr>\n",
       "      <th>1</th>\n",
       "      <td>1003</td>\n",
       "      <td>33349.0</td>\n",
       "      <td>128804.0</td>\n",
       "      <td>129.0</td>\n",
       "      <td>1037.0</td>\n",
       "      <td>213.0</td>\n",
       "      <td>1094.0</td>\n",
       "      <td>5156.0</td>\n",
       "      <td>13579.0</td>\n",
       "      <td>3184.0</td>\n",
       "      <td>5592.0</td>\n",
       "      <td>1769.0</td>\n",
       "      <td>1628.0</td>\n",
       "      <td>0.0</td>\n",
       "      <td>0.0</td>\n",
       "      <td>798.0</td>\n",
       "      <td>1072.0</td>\n",
       "      <td>35576.0</td>\n",
       "      <td>133070.0</td>\n",
       "    </tr>\n",
       "    <tr>\n",
       "      <th>2</th>\n",
       "      <td>1005</td>\n",
       "      <td>2040.0</td>\n",
       "      <td>10414.0</td>\n",
       "      <td>0.0</td>\n",
       "      <td>52.0</td>\n",
       "      <td>99.0</td>\n",
       "      <td>145.0</td>\n",
       "      <td>2938.0</td>\n",
       "      <td>9657.0</td>\n",
       "      <td>492.0</td>\n",
       "      <td>749.0</td>\n",
       "      <td>155.0</td>\n",
       "      <td>202.0</td>\n",
       "      <td>0.0</td>\n",
       "      <td>0.0</td>\n",
       "      <td>402.0</td>\n",
       "      <td>526.0</td>\n",
       "      <td>2144.0</td>\n",
       "      <td>10612.0</td>\n",
       "    </tr>\n",
       "    <tr>\n",
       "      <th>3</th>\n",
       "      <td>1007</td>\n",
       "      <td>3616.0</td>\n",
       "      <td>13224.0</td>\n",
       "      <td>33.0</td>\n",
       "      <td>60.0</td>\n",
       "      <td>0.0</td>\n",
       "      <td>21.0</td>\n",
       "      <td>972.0</td>\n",
       "      <td>3874.0</td>\n",
       "      <td>249.0</td>\n",
       "      <td>253.0</td>\n",
       "      <td>49.0</td>\n",
       "      <td>261.0</td>\n",
       "      <td>0.0</td>\n",
       "      <td>0.0</td>\n",
       "      <td>0.0</td>\n",
       "      <td>7.0</td>\n",
       "      <td>3865.0</td>\n",
       "      <td>13462.0</td>\n",
       "    </tr>\n",
       "    <tr>\n",
       "      <th>4</th>\n",
       "      <td>1009</td>\n",
       "      <td>11082.0</td>\n",
       "      <td>39618.0</td>\n",
       "      <td>73.0</td>\n",
       "      <td>253.0</td>\n",
       "      <td>9.0</td>\n",
       "      <td>74.0</td>\n",
       "      <td>237.0</td>\n",
       "      <td>647.0</td>\n",
       "      <td>2021.0</td>\n",
       "      <td>2959.0</td>\n",
       "      <td>361.0</td>\n",
       "      <td>620.0</td>\n",
       "      <td>0.0</td>\n",
       "      <td>0.0</td>\n",
       "      <td>167.0</td>\n",
       "      <td>388.0</td>\n",
       "      <td>12837.0</td>\n",
       "      <td>42044.0</td>\n",
       "    </tr>\n",
       "  </tbody>\n",
       "</table>\n",
       "</div>"
      ],
      "text/plain": [
       "   geoid  nhwa_under18  nhwa_votingAge  aian_under18  aian_votingAge  \\\n",
       "0   1001       10051.0         31797.0          95.0           135.0   \n",
       "1   1003       33349.0        128804.0         129.0          1037.0   \n",
       "2   1005        2040.0         10414.0           0.0            52.0   \n",
       "3   1007        3616.0         13224.0          33.0            60.0   \n",
       "4   1009       11082.0         39618.0          73.0           253.0   \n",
       "\n",
       "   asian_under18  asian_votingAge  black_under18  black_votingAge  \\\n",
       "0          150.0            384.0         2832.0           7483.0   \n",
       "1          213.0           1094.0         5156.0          13579.0   \n",
       "2           99.0            145.0         2938.0           9657.0   \n",
       "3            0.0             21.0          972.0           3874.0   \n",
       "4            9.0             74.0          237.0            647.0   \n",
       "\n",
       "   hisp_under18  hisp_votingAge  multi_under18  multi_votingAge  nhpi_under18  \\\n",
       "0         546.0           894.0          361.0            505.0           0.0   \n",
       "1        3184.0          5592.0         1769.0           1628.0           0.0   \n",
       "2         492.0           749.0          155.0            202.0           0.0   \n",
       "3         249.0           253.0           49.0            261.0           0.0   \n",
       "4        2021.0          2959.0          361.0            620.0           0.0   \n",
       "\n",
       "   nhpi_votingAge  sor_under18  sor_votingAge  white_under18  white_votingAge  \n",
       "0            24.0        193.0          318.0        10413.0          32328.0  \n",
       "1             0.0        798.0         1072.0        35576.0         133070.0  \n",
       "2             0.0        402.0          526.0         2144.0          10612.0  \n",
       "3             0.0          0.0            7.0         3865.0          13462.0  \n",
       "4             0.0        167.0          388.0        12837.0          42044.0  "
      ]
     },
     "execution_count": 6,
     "metadata": {},
     "output_type": "execute_result"
    }
   ],
   "source": [
    "demographics.head()"
   ]
  },
  {
   "cell_type": "code",
   "execution_count": null,
   "metadata": {
    "collapsed": true
   },
   "outputs": [],
   "source": []
  }
 ],
 "metadata": {
  "kernelspec": {
   "display_name": "Python 2",
   "language": "python",
   "name": "python2"
  },
  "language_info": {
   "codemirror_mode": {
    "name": "ipython",
    "version": 2
   },
   "file_extension": ".py",
   "mimetype": "text/x-python",
   "name": "python",
   "nbconvert_exporter": "python",
   "pygments_lexer": "ipython2",
   "version": "2.7.13"
  }
 },
 "nbformat": 4,
 "nbformat_minor": 2
}
